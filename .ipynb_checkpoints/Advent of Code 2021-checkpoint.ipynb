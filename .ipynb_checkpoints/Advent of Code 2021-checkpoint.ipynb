{
 "cells": [
  {
   "cell_type": "markdown",
   "metadata": {},
   "source": [
    "<https://adventofcode.com/2021>\n",
    "# Day 1\n",
    "###### Part 1\n",
    "<https://adventofcode.com/2021/day/1>"
   ]
  },
  {
   "cell_type": "code",
   "execution_count": 57,
   "metadata": {
    "scrolled": true
   },
   "outputs": [
    {
     "name": "stdout",
     "output_type": "stream",
     "text": [
      "Data Loaded Successfully\n",
      "Data Increases 1791 Times\n"
     ]
    }
   ],
   "source": [
    "day1data  = open(\"Data/day1.txt\", \"r\") \n",
    "\n",
    "data = day1data.read().split()\n",
    "\n",
    "for i, value in enumerate(data):\n",
    "    data[i] = int(value)\n",
    "print(\"Data Loaded Successfully\")\n",
    "\n",
    "prev = data[0]\n",
    "increase = 0\n",
    "\n",
    "for value in data[1:]:\n",
    "    \n",
    "    if prev < value:\n",
    "        increase+=1\n",
    "        \n",
    "    prev = value\n",
    "        \n",
    "print(\"Data increases\", increase, \"times\")"
   ]
  },
  {
   "cell_type": "markdown",
   "metadata": {},
   "source": [
    "###### Part 2"
   ]
  },
  {
   "cell_type": "code",
   "execution_count": 58,
   "metadata": {},
   "outputs": [
    {
     "name": "stdout",
     "output_type": "stream",
     "text": [
      "198 [198, 208, 209]\n",
      "Data increases 1822 times\n"
     ]
    }
   ],
   "source": [
    "prev = data[0]\n",
    "increase = 0\n",
    "\n",
    "print( prev, data[0:3])\n",
    "for i, value in enumerate(data):\n",
    "    \n",
    "    if i < 3:\n",
    "        continue\n",
    "    \n",
    "    if prev < value:\n",
    "        increase += 1\n",
    "        \n",
    "    prev = data[i - 2]\n",
    "\n",
    "print(\"Data increases\", increase, \"times\")\n"
   ]
  },
  {
   "cell_type": "code",
   "execution_count": null,
   "metadata": {},
   "outputs": [],
   "source": []
  }
 ],
 "metadata": {
  "kernelspec": {
   "display_name": "Python 3",
   "language": "python",
   "name": "python3"
  },
  "language_info": {
   "codemirror_mode": {
    "name": "ipython",
    "version": 3
   },
   "file_extension": ".py",
   "mimetype": "text/x-python",
   "name": "python",
   "nbconvert_exporter": "python",
   "pygments_lexer": "ipython3",
   "version": "3.7.7"
  }
 },
 "nbformat": 4,
 "nbformat_minor": 4
}
