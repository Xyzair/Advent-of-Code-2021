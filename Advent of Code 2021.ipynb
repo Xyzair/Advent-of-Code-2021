{
 "cells": [
  {
   "cell_type": "markdown",
   "metadata": {},
   "source": [
    "<https://adventofcode.com/2021>\n",
    "# Day 1\n",
    "###### Part 1\n",
    "<https://adventofcode.com/2021/day/1>"
   ]
  },
  {
   "cell_type": "code",
   "execution_count": 1,
   "metadata": {
    "scrolled": true
   },
   "outputs": [
    {
     "name": "stdout",
     "output_type": "stream",
     "text": [
      "Data Loaded Successfully\n",
      "Data increases 1791 times\n"
     ]
    }
   ],
   "source": [
    "day1data  = open(\"Data/day1.txt\", \"r\") \n",
    "\n",
    "data = day1data.read().split()\n",
    "\n",
    "for i, value in enumerate(data):\n",
    "    data[i] = int(value)\n",
    "print(\"Data Loaded Successfully\")\n",
    "\n",
    "prev = data[0]\n",
    "increase = 0\n",
    "\n",
    "for value in data[1:]:\n",
    "    \n",
    "    if prev < value:\n",
    "        increase+=1\n",
    "        \n",
    "    prev = value\n",
    "        \n",
    "print(\"Data increases\", increase, \"times\")"
   ]
  },
  {
   "cell_type": "markdown",
   "metadata": {},
   "source": [
    "###### Part 2"
   ]
  },
  {
   "cell_type": "code",
   "execution_count": 2,
   "metadata": {},
   "outputs": [
    {
     "name": "stdout",
     "output_type": "stream",
     "text": [
      "198 [198, 208, 209]\n",
      "Data increases 1822 times\n"
     ]
    }
   ],
   "source": [
    "prev = data[0]\n",
    "increase = 0\n",
    "\n",
    "print( prev, data[0:3])\n",
    "for i, value in enumerate(data):\n",
    "    \n",
    "    if i < 3:\n",
    "        continue\n",
    "    \n",
    "    if prev < value:\n",
    "        increase += 1\n",
    "        \n",
    "    prev = data[i - 2]\n",
    "\n",
    "print(\"Data increases\", increase, \"times\")\n"
   ]
  },
  {
   "cell_type": "markdown",
   "metadata": {},
   "source": [
    "# Day 2\n",
    "###### Part 1\n",
    "<https://adventofcode.com/2021/day/2>"
   ]
  },
  {
   "cell_type": "code",
   "execution_count": 3,
   "metadata": {},
   "outputs": [
    {
     "name": "stdout",
     "output_type": "stream",
     "text": [
      "Data Loaded Successfully\n",
      "1484118\n"
     ]
    }
   ],
   "source": [
    "day2data  = open(\"Data/day2.txt\", \"r\") \n",
    "\n",
    "data = day2data.read().split()\n",
    "\n",
    "for i, value in enumerate(data):\n",
    "    if i%2 == 1:\n",
    "        data[i] = int(value) \n",
    "print(\"Data Loaded Successfully\")\n",
    "\n",
    "i = 0\n",
    "forward = 0\n",
    "down = 0\n",
    "while i < len(data):\n",
    "    if data[i][0] == \"f\":\n",
    "        forward += data[i+1]\n",
    "    elif data[i][0:] == \"up\":\n",
    "        down -= data[i+1]\n",
    "    elif data[i][0:] == \"down\":\n",
    "        down += data[i+1]\n",
    "    i += 2\n",
    "\n",
    "print(down * forward)\n"
   ]
  },
  {
   "cell_type": "markdown",
   "metadata": {},
   "source": [
    "###### Part 2"
   ]
  },
  {
   "cell_type": "code",
   "execution_count": 4,
   "metadata": {},
   "outputs": [
    {
     "name": "stdout",
     "output_type": "stream",
     "text": [
      "1463827010\n"
     ]
    }
   ],
   "source": [
    "i = 0\n",
    "forward = 0\n",
    "down = 0\n",
    "aim = 0\n",
    "while i < len(data):\n",
    "    if data[i][0] == \"f\":\n",
    "        forward += data[i+1]\n",
    "        down += data[i+1] * aim\n",
    "    elif data[i][0:] == \"up\":\n",
    "        aim -= data[i+1]\n",
    "    elif data[i][0:] == \"down\":\n",
    "        aim += data[i+1]\n",
    "    i += 2\n",
    "\n",
    "print(down * forward)"
   ]
  },
  {
   "cell_type": "markdown",
   "metadata": {},
   "source": [
    "# Day 3\n",
    "###### Part 1\n",
    "<https://adventofcode.com/2021/day/3>"
   ]
  },
  {
   "cell_type": "code",
   "execution_count": 5,
   "metadata": {},
   "outputs": [
    {
     "name": "stdout",
     "output_type": "stream",
     "text": [
      "Data Loaded Successfully\n",
      "Binary form: 001100100101\n",
      "Power Consumption: 2648450\n"
     ]
    }
   ],
   "source": [
    "day3data  = open(\"Data/day3.txt\", \"r\") \n",
    "\n",
    "data = day3data.read().split(\"\\n\")\n",
    "\n",
    "for i, value in enumerate(data):\n",
    "    data[i] = value\n",
    "print(\"Data Loaded Successfully\")\n",
    "\n",
    "common = {}\n",
    "for i in range(len(data[0])):\n",
    "    common[i] = 0\n",
    "\n",
    "for value in data:\n",
    "    for i,letter in enumerate(value):\n",
    "        if \"0\" in letter:\n",
    "            common[i] += 1\n",
    "        else:\n",
    "            common[i] -= 1\n",
    "\n",
    "bs = \"\"\n",
    "epi = \"\"\n",
    "for i in common:\n",
    "    if common[i] > 0:\n",
    "        bs += \"0\"\n",
    "        epi += \"1\"\n",
    "    else:\n",
    "        bs += \"1\"\n",
    "        epi += \"0\"\n",
    "print(\"Binary form:\", bs)\n",
    "\n",
    "gamma= int(bs, 2)\n",
    "epsilon = int(epi,2)\n",
    "\n",
    "print (\"Power Consumption:\", epsilon * gamma)"
   ]
  },
  {
   "cell_type": "markdown",
   "metadata": {},
   "source": [
    "###### Part 2"
   ]
  },
  {
   "cell_type": "code",
   "execution_count": 6,
   "metadata": {},
   "outputs": [
    {
     "name": "stdout",
     "output_type": "stream",
     "text": [
      "Oxygen generator rating: 841\n",
      "CO2 scrubber rating: 3384\n",
      "Life support rating: 2845944\n"
     ]
    }
   ],
   "source": [
    "def common_numbers(data):\n",
    "    common = {}\n",
    "    for i in range(len(data[0])):\n",
    "        common[i] = 0\n",
    "\n",
    "    for value in data:\n",
    "        for i,letter in enumerate(value):\n",
    "            if \"0\" in letter:\n",
    "                common[i] += 1\n",
    "            else:\n",
    "                common[i] -= 1\n",
    "    return common\n",
    "\n",
    "def oxygen_gen(data):\n",
    "    common = common_numbers(data)\n",
    "    i = 0\n",
    "    #Making a copy because we are removing things\n",
    "    data = list(data)\n",
    "    \n",
    "    while len(data) > 1 and i < 12:\n",
    "        #print(i)\n",
    "\n",
    "        common = common_numbers(data)\n",
    "\n",
    "        if common[i] > 0:\n",
    "            for value in list(data):\n",
    "                if value[i] == \"1\":\n",
    "                    #print(\"removing 1:\", i, value)\n",
    "                    data.remove(value)\n",
    "        else:\n",
    "            for value in list(data):\n",
    "                if value[i] == \"0\":\n",
    "                    #print(\"removing 0:\", i, value)\n",
    "                    data.remove(value)\n",
    "        #print(\"round complete starting again\")\n",
    "        i +=1\n",
    "        \n",
    "    print(\"Oxygen generator rating:\", int(data[0],2))\n",
    "    return int(data[0],2)\n",
    "\n",
    "def co2_scrub(data):\n",
    "    common = common_numbers(data)\n",
    "    i = 0\n",
    "    #Making a copy because we are removing things\n",
    "    data = list(data)\n",
    "    \n",
    "    while len(data) > 1 and i < 12:\n",
    "\n",
    "        common = common_numbers(data)\n",
    "\n",
    "        if common[i] > 0:\n",
    "            for value in list(data):\n",
    "                if value[i] == \"0\":\n",
    "                    #print(\"removing 1:\", i, value)\n",
    "                    data.remove(value)\n",
    "        else:\n",
    "            for value in list(data):\n",
    "                if value[i] == \"1\":\n",
    "                    #print(\"removing 0:\", i, value)\n",
    "                    data.remove(value)\n",
    "        #print(\"round complete starting again\")\n",
    "        i +=1\n",
    "        \n",
    "    print(\"CO2 scrubber rating:\",int(data[0],2))\n",
    "    return int(data[0],2)    \n",
    "\n",
    "print(\"Life support rating:\" ,oxygen_gen(data) * co2_scrub(data))"
   ]
  }
 ],
 "metadata": {
  "kernelspec": {
   "display_name": "Python 3",
   "language": "python",
   "name": "python3"
  },
  "language_info": {
   "codemirror_mode": {
    "name": "ipython",
    "version": 3
   },
   "file_extension": ".py",
   "mimetype": "text/x-python",
   "name": "python",
   "nbconvert_exporter": "python",
   "pygments_lexer": "ipython3",
   "version": "3.7.7"
  }
 },
 "nbformat": 4,
 "nbformat_minor": 4
}
