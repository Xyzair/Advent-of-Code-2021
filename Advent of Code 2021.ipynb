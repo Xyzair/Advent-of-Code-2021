{
 "cells": [
  {
   "cell_type": "markdown",
   "metadata": {},
   "source": [
    "<https://adventofcode.com/2021>\n",
    "# Day 1\n",
    "###### Part 1\n",
    "<https://adventofcode.com/2021/day/1>"
   ]
  },
  {
   "cell_type": "code",
   "execution_count": 1,
   "metadata": {
    "scrolled": true
   },
   "outputs": [
    {
     "name": "stdout",
     "output_type": "stream",
     "text": [
      "Data Loaded Successfully\n",
      "Data increases 1791 times\n"
     ]
    }
   ],
   "source": [
    "day1data  = open(\"Data/day1.txt\", \"r\") \n",
    "\n",
    "data = day1data.read().split()\n",
    "\n",
    "for i, value in enumerate(data):\n",
    "    data[i] = int(value)\n",
    "print(\"Data Loaded Successfully\")\n",
    "\n",
    "prev = data[0]\n",
    "increase = 0\n",
    "\n",
    "for value in data[1:]:\n",
    "    \n",
    "    if prev < value:\n",
    "        increase+=1\n",
    "        \n",
    "    prev = value\n",
    "        \n",
    "print(\"Data increases\", increase, \"times\")"
   ]
  },
  {
   "cell_type": "markdown",
   "metadata": {},
   "source": [
    "###### Part 2"
   ]
  },
  {
   "cell_type": "code",
   "execution_count": 2,
   "metadata": {},
   "outputs": [
    {
     "name": "stdout",
     "output_type": "stream",
     "text": [
      "198 [198, 208, 209]\n",
      "Data increases 1822 times\n"
     ]
    }
   ],
   "source": [
    "prev = data[0]\n",
    "increase = 0\n",
    "\n",
    "print( prev, data[0:3])\n",
    "for i, value in enumerate(data):\n",
    "    \n",
    "    if i < 3:\n",
    "        continue\n",
    "    \n",
    "    if prev < value:\n",
    "        increase += 1\n",
    "        \n",
    "    prev = data[i - 2]\n",
    "\n",
    "print(\"Data increases\", increase, \"times\")\n"
   ]
  },
  {
   "cell_type": "markdown",
   "metadata": {},
   "source": [
    "# Day 2\n",
    "###### Part 1\n",
    "<https://adventofcode.com/2021/day/2>"
   ]
  },
  {
   "cell_type": "code",
   "execution_count": 3,
   "metadata": {},
   "outputs": [
    {
     "name": "stdout",
     "output_type": "stream",
     "text": [
      "Data Loaded Successfully\n",
      "1484118\n"
     ]
    }
   ],
   "source": [
    "day2data  = open(\"Data/day2.txt\", \"r\") \n",
    "\n",
    "data = day2data.read().split()\n",
    "\n",
    "for i, value in enumerate(data):\n",
    "    if i%2 == 1:\n",
    "        data[i] = int(value) \n",
    "print(\"Data Loaded Successfully\")\n",
    "\n",
    "i = 0\n",
    "forward = 0\n",
    "down = 0\n",
    "while i < len(data):\n",
    "    if data[i][0] == \"f\":\n",
    "        forward += data[i+1]\n",
    "    elif data[i][0:] == \"up\":\n",
    "        down -= data[i+1]\n",
    "    elif data[i][0:] == \"down\":\n",
    "        down += data[i+1]\n",
    "    i += 2\n",
    "\n",
    "print(down * forward)\n"
   ]
  },
  {
   "cell_type": "markdown",
   "metadata": {},
   "source": [
    "###### Part 2"
   ]
  },
  {
   "cell_type": "code",
   "execution_count": 4,
   "metadata": {},
   "outputs": [
    {
     "name": "stdout",
     "output_type": "stream",
     "text": [
      "1463827010\n"
     ]
    }
   ],
   "source": [
    "i = 0\n",
    "forward = 0\n",
    "down = 0\n",
    "aim = 0\n",
    "while i < len(data):\n",
    "    if data[i][0] == \"f\":\n",
    "        forward += data[i+1]\n",
    "        down += data[i+1] * aim\n",
    "    elif data[i][0:] == \"up\":\n",
    "        aim -= data[i+1]\n",
    "    elif data[i][0:] == \"down\":\n",
    "        aim += data[i+1]\n",
    "    i += 2\n",
    "\n",
    "print(down * forward)"
   ]
  },
  {
   "cell_type": "markdown",
   "metadata": {},
   "source": [
    "# Day 3\n",
    "###### Part 1\n",
    "<https://adventofcode.com/2021/day/3>"
   ]
  },
  {
   "cell_type": "code",
   "execution_count": 5,
   "metadata": {},
   "outputs": [
    {
     "name": "stdout",
     "output_type": "stream",
     "text": [
      "Data Loaded Successfully\n",
      "Binary form: 001100100101\n",
      "Power Consumption: 2648450\n"
     ]
    }
   ],
   "source": [
    "day3data  = open(\"Data/day3.txt\", \"r\") \n",
    "\n",
    "data = day3data.read().split(\"\\n\")\n",
    "\n",
    "for i, value in enumerate(data):\n",
    "    data[i] = value\n",
    "print(\"Data Loaded Successfully\")\n",
    "\n",
    "common = {}\n",
    "for i in range(len(data[0])):\n",
    "    common[i] = 0\n",
    "\n",
    "for value in data:\n",
    "    for i,letter in enumerate(value):\n",
    "        if \"0\" in letter:\n",
    "            common[i] += 1\n",
    "        else:\n",
    "            common[i] -= 1\n",
    "\n",
    "bs = \"\"\n",
    "epi = \"\"\n",
    "for i in common:\n",
    "    if common[i] > 0:\n",
    "        bs += \"0\"\n",
    "        epi += \"1\"\n",
    "    else:\n",
    "        bs += \"1\"\n",
    "        epi += \"0\"\n",
    "print(\"Binary form:\", bs)\n",
    "\n",
    "gamma= int(bs, 2)\n",
    "epsilon = int(epi,2)\n",
    "\n",
    "print (\"Power Consumption:\", epsilon * gamma)"
   ]
  },
  {
   "cell_type": "markdown",
   "metadata": {},
   "source": [
    "###### Part 2"
   ]
  },
  {
   "cell_type": "code",
   "execution_count": 6,
   "metadata": {},
   "outputs": [
    {
     "name": "stdout",
     "output_type": "stream",
     "text": [
      "Oxygen generator rating: 841\n",
      "CO2 scrubber rating: 3384\n",
      "Life support rating: 2845944\n"
     ]
    }
   ],
   "source": [
    "def common_numbers(data):\n",
    "    common = {}\n",
    "    for i in range(len(data[0])):\n",
    "        common[i] = 0\n",
    "\n",
    "    for value in data:\n",
    "        for i,letter in enumerate(value):\n",
    "            if \"0\" in letter:\n",
    "                common[i] += 1\n",
    "            else:\n",
    "                common[i] -= 1\n",
    "    return common\n",
    "\n",
    "def oxygen_gen(data):\n",
    "    common = common_numbers(data)\n",
    "    i = 0\n",
    "    #Making a copy because we are removing things\n",
    "    data = list(data)\n",
    "    \n",
    "    while len(data) > 1 and i < 12:\n",
    "        #print(i)\n",
    "\n",
    "        common = common_numbers(data)\n",
    "\n",
    "        if common[i] > 0:\n",
    "            for value in list(data):\n",
    "                if value[i] == \"1\":\n",
    "                    #print(\"removing 1:\", i, value)\n",
    "                    data.remove(value)\n",
    "        else:\n",
    "            for value in list(data):\n",
    "                if value[i] == \"0\":\n",
    "                    #print(\"removing 0:\", i, value)\n",
    "                    data.remove(value)\n",
    "        #print(\"round complete starting again\")\n",
    "        i +=1\n",
    "        \n",
    "    print(\"Oxygen generator rating:\", int(data[0],2))\n",
    "    return int(data[0],2)\n",
    "\n",
    "def co2_scrub(data):\n",
    "    common = common_numbers(data)\n",
    "    i = 0\n",
    "    #Making a copy because we are removing things\n",
    "    data = list(data)\n",
    "    \n",
    "    while len(data) > 1 and i < 12:\n",
    "\n",
    "        common = common_numbers(data)\n",
    "\n",
    "        if common[i] > 0:\n",
    "            for value in list(data):\n",
    "                if value[i] == \"0\":\n",
    "                    #print(\"removing 1:\", i, value)\n",
    "                    data.remove(value)\n",
    "        else:\n",
    "            for value in list(data):\n",
    "                if value[i] == \"1\":\n",
    "                    #print(\"removing 0:\", i, value)\n",
    "                    data.remove(value)\n",
    "        #print(\"round complete starting again\")\n",
    "        i +=1\n",
    "        \n",
    "    print(\"CO2 scrubber rating:\",int(data[0],2))\n",
    "    return int(data[0],2)    \n",
    "\n",
    "print(\"Life support rating:\" ,oxygen_gen(data) * co2_scrub(data))"
   ]
  },
  {
   "cell_type": "markdown",
   "metadata": {},
   "source": [
    "# Day 4\n",
    "###### Part 1\n",
    "<https://adventofcode.com/2021/day/4>"
   ]
  },
  {
   "cell_type": "code",
   "execution_count": 7,
   "metadata": {
    "scrolled": true
   },
   "outputs": [
    {
     "name": "stdout",
     "output_type": "stream",
     "text": [
      "Data Loaded Successfully\n",
      "Winning card: 89\n",
      "Last number: 80 Sum of unselected numbers: 929\n",
      "Total Points: 74320\n"
     ]
    }
   ],
   "source": [
    "import numpy as np\n",
    "\n",
    "day4data  = open(\"Data/day4.txt\", \"r\") \n",
    "\n",
    "data = day4data.read().split(\"\\n\\n\")\n",
    "\n",
    "bingo = data[0].split(\",\")\n",
    "for i, val in enumerate(bingo):\n",
    "    bingo[i]= int(val)\n",
    "\n",
    "bingocard = {}\n",
    "\n",
    "for i, line in enumerate(data[1:]):\n",
    "    temp = np.empty((5,5), dtype='int')\n",
    "    bingocard[i,2] = np.zeros((5,5), dtype='int')\n",
    "    for j, line2 in enumerate(line.split(\"\\n\")):\n",
    "        for k, value in enumerate(line2.split()):\n",
    "            temp[j,k] = int(value)\n",
    "            \n",
    "        bingocard[i,1] = temp    \n",
    "      \n",
    "print(\"Data Loaded Successfully\")\n",
    "#print(bingocard)\n",
    "\n",
    "length = len(data) - 1\n",
    "tb = False\n",
    "winner = -1\n",
    "\n",
    "bwin = 0\n",
    "for b in bingo:\n",
    "    for i in range(length):\n",
    "        location = np.where(bingocard[i,1] == b)\n",
    "        #print(bingocard[i,1], len(location[0]))\n",
    "        \n",
    "        if len(location[0]) > 0:\n",
    "            \n",
    "            #store hits\n",
    "            bingocard[i,2][location[0][0], location[1][0]] = 1\n",
    "            \n",
    "            #Check for 5 in a row here.\n",
    "            #print(\"SUM\",bingocard[i,2].sum(axis=1))\n",
    "            if 5 in bingocard[i,2].sum(axis=1) or 5 in bingocard[i,2].sum(axis=0):\n",
    "                tb = True\n",
    "                winner = i\n",
    "                bwin = b\n",
    "                break\n",
    "    if tb == True:\n",
    "        break\n",
    "\n",
    "\n",
    "#print(bingocard)\n",
    "print(\"Winning card:\", winner)\n",
    "\n",
    "winningcard = bingocard[winner,1]\n",
    "markedcard = bingocard[winner,2]\n",
    "\n",
    "total = 0\n",
    "for i in range(5):\n",
    "    for j in range(5):\n",
    "        if markedcard[i,j] == 0:\n",
    "            total += winningcard[i,j]\n",
    "print(\"Last number:\", b,\"Sum of unselected numbers:\", total)\n",
    "print(\"Total Points:\", total * bwin)\n",
    "\n",
    "\n"
   ]
  },
  {
   "cell_type": "markdown",
   "metadata": {},
   "source": [
    "###### Part 2"
   ]
  },
  {
   "cell_type": "code",
   "execution_count": 8,
   "metadata": {
    "scrolled": true
   },
   "outputs": [
    {
     "name": "stdout",
     "output_type": "stream",
     "text": [
      "Data Loaded Successfully\n",
      "Losing card: 28\n",
      "Last number: 34 Sum of unselected numbers: 526\n",
      "Total Points: 17884\n"
     ]
    }
   ],
   "source": [
    "import numpy as np\n",
    "\n",
    "day4data  = open(\"Data/day4.txt\", \"r\") \n",
    "\n",
    "data = day4data.read().split(\"\\n\\n\")\n",
    "\n",
    "bingo = data[0].split(\",\")\n",
    "for i, val in enumerate(bingo):\n",
    "    bingo[i]= int(val)\n",
    "\n",
    "bingocard = {}\n",
    "\n",
    "for i, line in enumerate(data[1:]):\n",
    "    temp = np.empty((5,5), dtype='int')\n",
    "    bingocard[i,2] = np.zeros((5,5), dtype='int')\n",
    "    for j, line2 in enumerate(line.split(\"\\n\")):\n",
    "        for k, value in enumerate(line2.split()):\n",
    "            temp[j,k] = int(value)\n",
    "            \n",
    "        bingocard[i,1] = temp    \n",
    "      \n",
    "    #print(\"BingoCard loaded\")\n",
    "print(\"Data Loaded Successfully\")\n",
    "#print(bingocard)\n",
    "\n",
    "length = len(data) - 1\n",
    "tb = False\n",
    "winner = -1\n",
    "\n",
    "bwin = 0\n",
    "\n",
    "activeCards = []\n",
    "\n",
    "for i in range(length):\n",
    "    activeCards.append(i)\n",
    "\n",
    "\n",
    "uactive = activeCards\n",
    "for b in bingo:\n",
    "    activeCards =  list(uactive)\n",
    "    for i in activeCards:\n",
    "        #print(i)\n",
    "        location = np.where(bingocard[i,1] == b)\n",
    "        if len(location[0]) > 0:\n",
    "            #store hits\n",
    "            bingocard[i,2][location[0][0], location[1][0]] = 1\n",
    "            #print(\"b:\",b, bingocard[i,2][location[0][0]], \"\\n\")\n",
    "            \n",
    "            #Check for 5 in a row or column here.\n",
    "            #print(\"SUM\",bingocard[i,2].sum(axis=1))\n",
    "            if 5 in bingocard[i,2].sum(axis=1) or 5 in bingocard[i,2].sum(axis=0):\n",
    "                tb = True\n",
    "                winner = i\n",
    "                uactive.remove(winner)\n",
    "                #print(\"removed:\", winner)\n",
    "                bwin = b\n",
    "    if tb == True:\n",
    "        #remove from bingocards\n",
    "        tb = False\n",
    "        if len(uactive) == 0:\n",
    "            break\n",
    "            \n",
    "\n",
    "#print(bingocard)\n",
    "print(\"Losing card:\", winner)\n",
    "\n",
    "winningcard = bingocard[winner,1]\n",
    "markedcard = bingocard[winner,2]\n",
    "\n",
    "total = 0\n",
    "for i in range(5):\n",
    "    for j in range(5):\n",
    "        if markedcard[i,j] == 0:\n",
    "            total += winningcard[i,j]\n",
    "print(\"Last number:\", b,\"Sum of unselected numbers:\", total)\n",
    "print(\"Total Points:\", total * bwin)\n"
   ]
  },
  {
   "cell_type": "markdown",
   "metadata": {},
   "source": [
    "# Day 5\n",
    "###### Part 1\n",
    "<https://adventofcode.com/2021/day/5>"
   ]
  },
  {
   "cell_type": "code",
   "execution_count": 9,
   "metadata": {},
   "outputs": [
    {
     "name": "stdout",
     "output_type": "stream",
     "text": [
      "Data Loaded Successfully\n",
      "Score: 6007\n"
     ]
    }
   ],
   "source": [
    "import numpy as np\n",
    "day5data  = open(\"Data/day5.txt\", \"r\") \n",
    "\n",
    "data = day5data.read().split(\"\\n\")\n",
    "start = []\n",
    "end = []\n",
    "\n",
    "for value in data:\n",
    "    temp = value.split()\n",
    "    st = temp[0].split(\",\")\n",
    "    et = temp[2].split(\",\")\n",
    "    start.append([int(st[0]), int(st[1])])\n",
    "    end.append([int(et[0]), int(et[1])])\n",
    "\n",
    "print(\"Data Loaded Successfully\")\n",
    "\n",
    "\n",
    "def findMax(pointArr):\n",
    "    x = 0\n",
    "    y = 0\n",
    "    for i in range(len(pointArr)):\n",
    "        if pointArr[i][0] > x:\n",
    "            x = pointArr[i][0]\n",
    "        if pointArr[i][1] > y:\n",
    "            y = pointArr[i][1]\n",
    "            \n",
    "    return [x,y]\n",
    "\n",
    "def printBoard(board):\n",
    "    for value in board:\n",
    "        print(value)\n",
    "\n",
    "boardSize = findMax([findMax(start), findMax(end)])\n",
    "\n",
    "boardSize[0] += 3\n",
    "boardSize[1] += 3\n",
    "\n",
    "\n",
    "board = np.zeros(boardSize)\n",
    "\n",
    "#Fill in board\n",
    "\n",
    "for i in range(len(start)):\n",
    "    #if x val is equal\n",
    "    x1 = start[i][0]\n",
    "    x2 = end[i][0]\n",
    "    y1 = start[i][1]\n",
    "    y2 = end[i][1]\n",
    "    \n",
    "\n",
    "    if x1 == x2:\n",
    "        diff = y1 - y2\n",
    "        for i in range(abs(diff)+1):\n",
    "            if diff > 0:\n",
    "                board[y1-i][x1] += 1\n",
    "\n",
    "            else:\n",
    "                board[y1+i][x1] += 1\n",
    "\n",
    "    elif y1 == y2:\n",
    "        diff = x1 - x2\n",
    "        for i in range(abs(diff)+1):\n",
    "            if diff > 0:\n",
    "                board[y1][x1 - i] += 1\n",
    "\n",
    "            else:\n",
    "                board[y1][x1 + i] += 1\n",
    "    \n",
    "prob = np.argwhere(board> 1)\n",
    "print(\"Score:\", len(prob))\n",
    "#Board hidden because it's 1000 x 1000 and doesn't look good\n",
    "#printBoard(board)\n"
   ]
  },
  {
   "cell_type": "markdown",
   "metadata": {},
   "source": [
    "###### Part 2"
   ]
  },
  {
   "cell_type": "code",
   "execution_count": 10,
   "metadata": {},
   "outputs": [
    {
     "name": "stdout",
     "output_type": "stream",
     "text": [
      "Data Loaded Successfully\n",
      "Score: 19349\n"
     ]
    }
   ],
   "source": [
    "import numpy as np\n",
    "day5data  = open(\"Data/day5.txt\", \"r\") \n",
    "\n",
    "data = day5data.read().split(\"\\n\")\n",
    "start = []\n",
    "end = []\n",
    "\n",
    "for value in data:\n",
    "    temp = value.split()\n",
    "    st = temp[0].split(\",\")\n",
    "    et = temp[2].split(\",\")\n",
    "    start.append([int(st[0]), int(st[1])])\n",
    "    end.append([int(et[0]), int(et[1])])\n",
    "\n",
    "print(\"Data Loaded Successfully\")\n",
    "\n",
    "\n",
    "def findMax(pointArr):\n",
    "    x = 0\n",
    "    y = 0\n",
    "    for i in range(len(pointArr)):\n",
    "        if pointArr[i][0] > x:\n",
    "            x = pointArr[i][0]\n",
    "        if pointArr[i][1] > y:\n",
    "            y = pointArr[i][1]\n",
    "            \n",
    "    return [x,y]\n",
    "\n",
    "def printBoard(board):\n",
    "    for value in board:\n",
    "        print(value)\n",
    "\n",
    "boardSize = findMax([findMax(start), findMax(end)])\n",
    "\n",
    "boardSize[0] += 3\n",
    "boardSize[1] += 3\n",
    "\n",
    "\n",
    "board = np.zeros(boardSize)\n",
    "\n",
    "#Fill in board\n",
    "\n",
    "for i in range(len(start)):\n",
    "    #if x val is equal\n",
    "    x1 = start[i][0]\n",
    "    x2 = end[i][0]\n",
    "    y1 = start[i][1]\n",
    "    y2 = end[i][1]\n",
    "    \n",
    "    ydiff = y2 - y1\n",
    "    xdiff = x2 - x1\n",
    "    \n",
    "    if x1 == x2:\n",
    "        diff = y1 - y2\n",
    "        for i in range(abs(diff)+1):\n",
    "            if diff > 0:\n",
    "                board[y1-i][x1] += 1\n",
    "\n",
    "            else:\n",
    "                board[y1+i][x1] += 1\n",
    "\n",
    "    elif y1 == y2:\n",
    "        diff = x1 - x2\n",
    "        for i in range(abs(diff)+1):\n",
    "            if diff > 0:\n",
    "                board[y1][x1 - i] += 1\n",
    "\n",
    "            else:\n",
    "                board[y1][x1 + i] += 1\n",
    "                \n",
    "    else:\n",
    "        if xdiff > 0 and ydiff > 0:\n",
    "            for i in range(abs(xdiff)+1):\n",
    "                board[y1 + i][x1 + i] += 1\n",
    "       \n",
    "        elif xdiff < 0 and ydiff > 0:\n",
    "            for i in range(abs(xdiff)+1):\n",
    "                board[y1 + i][x1 - i] += 1\n",
    "        \n",
    "        elif xdiff > 0 and ydiff < 0:\n",
    "            for i in range(abs(xdiff)+1):\n",
    "                #print(y1 - i,x1 + i)\n",
    "                board[y1 - i][x1 + i] += 1\n",
    "        \n",
    "        elif xdiff < 0 and ydiff < 0:\n",
    "            for i in range(abs(xdiff)+1):\n",
    "                board[y1 - i][x1 - i] += 1\n",
    "        \n",
    "        \n",
    "        \n",
    "    \n",
    "prob = np.argwhere(board> 1)\n",
    "print(\"Score:\", len(prob))\n",
    "#Board hidden because it's 1000 x 1000 and doesn't look good\n",
    "#printBoard(board)"
   ]
  },
  {
   "cell_type": "markdown",
   "metadata": {},
   "source": [
    "# Day 6\n",
    "###### Part 1\n",
    "<https://adventofcode.com/2021/day/6>"
   ]
  },
  {
   "cell_type": "code",
   "execution_count": 11,
   "metadata": {},
   "outputs": [
    {
     "name": "stdout",
     "output_type": "stream",
     "text": [
      "Data Loaded Successfully\n",
      "After 80 days there are 396210 fish\n"
     ]
    }
   ],
   "source": [
    "day6data  = open(\"Data/day6.txt\", \"r\") \n",
    "\n",
    "data = day6data.read().split(\",\")\n",
    "\n",
    "for i, value in enumerate(data):\n",
    "    data[i] = int(value)\n",
    "  \n",
    "print(\"Data Loaded Successfully\")\n",
    "days = 80\n",
    "\n",
    "for day in range(days):\n",
    "    temp = 0\n",
    "    #update data\n",
    "    for i, value in enumerate(data):\n",
    "        if value == 0:\n",
    "            temp += 1\n",
    "            data[i] = 6\n",
    "        else:    \n",
    "            data[i] -= 1\n",
    "            \n",
    "    for value2 in range(temp):\n",
    "        data.append(8)\n",
    "        \n",
    "    #print(\"After\", day + 1, data)\n",
    "\n",
    "print(\"After\", days, \"days there are\", len(data), \"fish\")        "
   ]
  },
  {
   "cell_type": "markdown",
   "metadata": {},
   "source": [
    "###### Part 2"
   ]
  },
  {
   "cell_type": "code",
   "execution_count": 12,
   "metadata": {},
   "outputs": [
    {
     "name": "stdout",
     "output_type": "stream",
     "text": [
      "Data Loaded Successfully\n",
      "After 256 days there are 1770823541496 fish\n"
     ]
    }
   ],
   "source": [
    "day6data  = open(\"Data/day6.txt\", \"r\") \n",
    "\n",
    "data = day6data.read().split(\",\")\n",
    "\n",
    "for i, value in enumerate(data):\n",
    "    data[i] = int(value)\n",
    "    \n",
    "#print(\"Initial\", data)   \n",
    "print(\"Data Loaded Successfully\")\n",
    "\n",
    "bucket = [0,0,0,0,0,0,0,0,0]\n",
    "days = 256\n",
    "\n",
    "for value in data:\n",
    "    bucket[value] += 1\n",
    "\n",
    "for day in range(days):\n",
    "    temp = 0\n",
    "    #update data\n",
    "    temp = bucket[0]\n",
    "    for i in range(len(bucket)-1):\n",
    "        bucket[i] = bucket[i+1]\n",
    "    bucket[8] = temp\n",
    "    bucket[6] += temp    \n",
    "    #print(bucket)\n",
    "        \n",
    "    #print(\"After\", day + 1, data)\n",
    "\n",
    "total=0\n",
    "for value in bucket:\n",
    "    total += value\n",
    "    \n",
    "print(\"After\", days, \"days there are\", total, \"fish\")\n",
    "#print(bucket)"
   ]
  },
  {
   "cell_type": "markdown",
   "metadata": {},
   "source": [
    "# Day 7\n",
    "###### Part 1\n",
    "<https://adventofcode.com/2021/day/7>"
   ]
  },
  {
   "cell_type": "code",
   "execution_count": 13,
   "metadata": {},
   "outputs": [
    {
     "name": "stdout",
     "output_type": "stream",
     "text": [
      "Data Loaded Successfully\n",
      "Minimum fuel needed 323647 Location: 314\n"
     ]
    }
   ],
   "source": [
    "day7data  = open(\"Data/day7.txt\", \"r\") \n",
    "\n",
    "data = day7data.read().split(\",\")\n",
    "\n",
    "for i, value in enumerate(data):\n",
    "    data[i] = int(value)\n",
    "data.sort()\n",
    "\n",
    "maxVal = data[len(data)-1]\n",
    "#print(data, maxVal)\n",
    "print(\"Data Loaded Successfully\")\n",
    "\n",
    "minVal = 10000000000000000\n",
    "location = 0\n",
    "for val in range(maxVal+1):\n",
    "    total = 0\n",
    "    for value in data:\n",
    "        total += abs(val - value)\n",
    "        \n",
    "    if minVal  > total:\n",
    "        minVal = total\n",
    "        location = val\n",
    "\n",
    "print(\"Minimum fuel needed\", minVal, \"Location:\", location)"
   ]
  },
  {
   "cell_type": "markdown",
   "metadata": {},
   "source": [
    "###### Part 2"
   ]
  },
  {
   "cell_type": "code",
   "execution_count": 14,
   "metadata": {},
   "outputs": [
    {
     "name": "stdout",
     "output_type": "stream",
     "text": [
      "Minimum fuel needed 87640209 Location: 446\n"
     ]
    }
   ],
   "source": [
    "past = {}\n",
    "\n",
    "def fuel(distance):\n",
    "    \n",
    "    total = 0\n",
    "    if distance in past:\n",
    "        return past[distance]\n",
    "    \n",
    "    else:\n",
    "        for i in range(distance+1):\n",
    "            total += i\n",
    "            \n",
    "        past[distance] = total\n",
    "        return total\n",
    "\n",
    "\n",
    "minVal = 10000000000000000\n",
    "location = 0\n",
    "for val in range(maxVal+1):\n",
    "    total = 0\n",
    "    for value in data:\n",
    "        total += fuel(abs(val - value))\n",
    "        \n",
    "    if minVal  > total:\n",
    "        minVal = total\n",
    "        location = val\n",
    "\n",
    "print(\"Minimum fuel needed\", minVal, \"Location:\", location)"
   ]
  },
  {
   "cell_type": "markdown",
   "metadata": {},
   "source": [
    "# Day 8\n",
    "###### Part 1\n",
    "<https://adventofcode.com/2021/day/8>"
   ]
  },
  {
   "cell_type": "code",
   "execution_count": 15,
   "metadata": {},
   "outputs": [
    {
     "name": "stdout",
     "output_type": "stream",
     "text": [
      "Data Loaded Successfully\n",
      "Total number of 1s, 4s, 7s, and 8s: 495\n",
      "Time: 3.003835678100586 ms\n"
     ]
    }
   ],
   "source": [
    "import time\n",
    "\n",
    "start = time.time()\n",
    "day8data  = open(\"Data/day8.txt\", \"r\") \n",
    "\n",
    "data = day8data.read().split(\"\\n\")\n",
    "extra = []\n",
    "output = []\n",
    "for line in data:\n",
    "    div = line.split(\"|\")\n",
    "    extra.append(div[0].split())\n",
    "    output.append(div[1].split())\n",
    "print(\"Data Loaded Successfully\")\n",
    "\n",
    "\n",
    "# 1 = 2, 4 = 4, 7 = 3, 8 = 7\n",
    "\n",
    "total = 0\n",
    "for line in output:\n",
    "    for val in line:\n",
    "        l = len(val)\n",
    "        if l == 2 or l == 3 or l == 4 or l == 7:\n",
    "            total += 1\n",
    "print(\"Total number of 1s, 4s, 7s, and 8s:\", total)\n",
    "end = time.time()\n",
    "print(\"Time:\", (end - start) * 1000, \"ms\" )"
   ]
  },
  {
   "cell_type": "markdown",
   "metadata": {},
   "source": [
    "###### Part 2"
   ]
  },
  {
   "cell_type": "code",
   "execution_count": 16,
   "metadata": {
    "scrolled": true
   },
   "outputs": [
    {
     "name": "stdout",
     "output_type": "stream",
     "text": [
      "Numbers decoded from 7 segement display and added together: 1055164\n",
      "Time: 6.0062408447265625 ms\n"
     ]
    }
   ],
   "source": [
    "start1 = time.time()\n",
    "\n",
    "def decode(extra, output):\n",
    "    segment = {}\n",
    "    key = [\"\", \"\", \"\", \"\", \"\", \"\", \"\", \"\", \"\", \"\"]\n",
    "    \n",
    "    #find 1, 4, 7, 8\n",
    "    for line in [output, extra]:\n",
    "        for val in line:\n",
    "            l = len(val)\n",
    "            \n",
    "            if l == 2:\n",
    "                key[1] = val\n",
    "                segment[\"right\"] = key[1]\n",
    "            elif l == 3:\n",
    "                key[7] = val\n",
    "            elif l == 4:\n",
    "                key[4] = val\n",
    "            elif l == 7:\n",
    "                key[8] = val\n",
    "    #find top\n",
    "    for value in key[7]:\n",
    "        if not(value in key[1]):\n",
    "            segment[\"top\"] = value\n",
    "    \n",
    "    #find upper left and middle\n",
    "    temp = {}\n",
    "    for value in key[4]:\n",
    "        if not value in key[1]:\n",
    "            temp[value] = 0\n",
    "    \n",
    "    for line in [output, extra]:\n",
    "        for val in line:\n",
    "            l = len(val)\n",
    "            if l == 5:\n",
    "                for value in key[4]:\n",
    "                    if value in val and not value in key[1]:\n",
    "                        temp[value] += 1\n",
    "\n",
    "    tempk = []\n",
    "    for i, value in enumerate(temp):\n",
    "            tempk.append([value, temp[value]])\n",
    "    \n",
    "    if tempk[0][1] > tempk[1][1]:\n",
    "        segment[\"mid\"] = tempk[0][0]\n",
    "        #UL is upper left\n",
    "        segment[\"ul\"] = tempk[1][0]\n",
    "    else:\n",
    "        segment[\"mid\"] = tempk[1][0]\n",
    "        segment[\"ul\"] = tempk[0][0]\n",
    "    \n",
    "    #find 2, 3, 5, upper right, and lower right\n",
    "    for line in [output, extra]:\n",
    "        for val in line:\n",
    "            l = len(val)\n",
    "            if l == 5 and segment[\"ul\"] in val:\n",
    "                key[5] = val\n",
    "                for value in segment[\"right\"]:\n",
    "                    if value in val:\n",
    "                        segment[\"lr\"] = value\n",
    "                        \n",
    "                    else:\n",
    "                        segment[\"ur\"] = value\n",
    "            elif l == 5 and segment[\"right\"][0] in val and segment[\"right\"][1] in val:\n",
    "                key[3] = val\n",
    "            \n",
    "            elif l == 5 and ((segment[\"right\"][0] in val and not segment[\"right\"][1] in val) or (segment[\"right\"][1] in val and not segment[\"right\"][0] in val)) :\n",
    "                key[2] = val\n",
    "    \n",
    "    #find 0, 6, 9\n",
    "    for line in [output, extra]:\n",
    "        for val in line:\n",
    "            l = len(val)\n",
    "            if l == 6:    \n",
    "                if not segment[\"mid\"] in val:\n",
    "                    key[0] = val\n",
    "                \n",
    "                elif segment[\"mid\"] in val and segment[\"ur\"] in val:\n",
    "                    key[9] = val\n",
    "                    \n",
    "                elif segment[\"mid\"] in val and not segment[\"ur\"] in val:\n",
    "                    key[6] = val\n",
    "\n",
    "    return decode2(key, output)\n",
    "\n",
    "def decode2(key, output):\n",
    "    total = 0\n",
    "    for out in output:\n",
    "        length = len(out)\n",
    "        for i, k in enumerate(key):\n",
    "            if length == len(k):\n",
    "                valid = True\n",
    "                for char in k:\n",
    "                    if not char in out:\n",
    "                        valid = False\n",
    "                        break\n",
    "                if valid == True:\n",
    "                    total = 10 * total + i\n",
    "                    \n",
    "    return total\n",
    "\n",
    "total = 0\n",
    "for i, value in enumerate(output):\n",
    "    total += decode(extra[i], value)\n",
    "end1 = time.time()\n",
    "print(\"Numbers decoded from 7 segement display and added together:\", total)\n",
    "\n",
    "print(\"Time:\", (end1 - start1) * 1000, \"ms\" )"
   ]
  },
  {
   "cell_type": "markdown",
   "metadata": {},
   "source": [
    "# Day 9\n",
    "###### Part 1\n",
    "<https://adventofcode.com/2021/day/9>"
   ]
  },
  {
   "cell_type": "code",
   "execution_count": 17,
   "metadata": {
    "scrolled": true
   },
   "outputs": [
    {
     "name": "stdout",
     "output_type": "stream",
     "text": [
      "Data Loaded Successfully\n",
      "Sum of the risk levels of all low points on your heightmap =  456\n"
     ]
    }
   ],
   "source": [
    "def printMap(data):\n",
    "    for value in data:\n",
    "        print(value)\n",
    "\n",
    "day9data  = open(\"Data/day9.txt\", \"r\") \n",
    "\n",
    "data = day9data.read().split(\"\\n\")\n",
    "\n",
    "for i, value in enumerate(data):\n",
    "    data[i] = []\n",
    "    for char in value:\n",
    "        data[i].append(int(char))\n",
    "print(\"Data Loaded Successfully\")\n",
    "#printMap(data)\n",
    "\n",
    "def minCheck(data, x, y):\n",
    "    valid = True\n",
    "    value = data[y][x]\n",
    "    if value == 9:\n",
    "        valid = False\n",
    "    if x > 0:\n",
    "        if value > data[y][x - 1]:\n",
    "            valid = False\n",
    "    if x < len(data[y]) - 1:\n",
    "        if value > data[y][x + 1]:\n",
    "            valid = False\n",
    "    if y > 0:\n",
    "        if value > data[y - 1][x]:\n",
    "            valid = False\n",
    "    if y < len(data) - 1:\n",
    "        if value > data[y + 1][x]:\n",
    "            valid = False\n",
    "    return valid\n",
    "\n",
    "#for next part\n",
    "coords = []\n",
    "\n",
    "total = 0\n",
    "for y, value in enumerate(data):\n",
    "    for x, num in enumerate(value):\n",
    "        if minCheck(data, x, y):\n",
    "            coords.append([x,y])\n",
    "            #print(x,y, num, total)\n",
    "            total += data[y][x] + 1\n",
    "    \n",
    "print(\"Sum of the risk levels of all low points on your heightmap = \", total)"
   ]
  },
  {
   "cell_type": "markdown",
   "metadata": {},
   "source": [
    "###### Part 2"
   ]
  },
  {
   "cell_type": "code",
   "execution_count": 18,
   "metadata": {},
   "outputs": [
    {
     "name": "stdout",
     "output_type": "stream",
     "text": [
      "3 largest basin sizes multiplied together = 1047744\n"
     ]
    }
   ],
   "source": [
    "counted = {}\n",
    "\n",
    "def basinSize(data, x, y):\n",
    "    value = data[y][x]\n",
    "    #print(value, x, y)\n",
    "    if value == 9 or (x,y) in counted.keys():\n",
    "        return 0\n",
    "    total = 0\n",
    "    \n",
    "    if x > 0:\n",
    "        counted[x,y] = True\n",
    "        total += basinSize(data, x-1, y)\n",
    "\n",
    "    if x < len(data[y]) - 1:\n",
    "        counted[x,y] = True\n",
    "        total += basinSize(data, x + 1, y)\n",
    "        \n",
    "    if y > 0:\n",
    "        counted[x,y] = True\n",
    "        total += basinSize(data, x, y - 1)\n",
    "            \n",
    "    if y < len(data) - 1:\n",
    "        counted[x,y] = True\n",
    "        total += basinSize(data, x, y + 1)\n",
    "    counted[x,y] = True\n",
    "    return total + 1\n",
    "sizes = []\n",
    "for value in coords:\n",
    "    sizes.append(basinSize(data, value[0], value[1]))\n",
    "    #print(value, sizes)\n",
    "    \n",
    "sizes.sort()\n",
    "#print(sizes)\n",
    "\n",
    "total = 1\n",
    "for i in range(3):\n",
    "    l = len(sizes) - 1 - i\n",
    "    total *= sizes[l]\n",
    "\n",
    "print(\"3 largest basin sizes multiplied together =\", total)"
   ]
  },
  {
   "cell_type": "markdown",
   "metadata": {},
   "source": [
    "# Day 10\n",
    "###### Part 1\n",
    "<https://adventofcode.com/2021/day/10>"
   ]
  },
  {
   "cell_type": "code",
   "execution_count": 19,
   "metadata": {},
   "outputs": [
    {
     "name": "stdout",
     "output_type": "stream",
     "text": [
      "Data Loaded Successfully\n",
      "Total syntax error score: 344193\n"
     ]
    }
   ],
   "source": [
    "day10data  = open(\"Data/day10.txt\", \"r\") \n",
    "\n",
    "data = day10data.read().split()\n",
    "\n",
    "print(\"Data Loaded Successfully\")\n",
    "\n",
    "def syntaxChecker(arr):\n",
    "   # if arr[0] in [\"(\", \"[\",\"{\", \"<\"]:\n",
    "        #syntaxChecker(arr[1:])\n",
    "    swap = {}\n",
    "    swap[\"(\"] = \")\"\n",
    "    swap[\"[\"] = \"]\"\n",
    "    swap[\"{\"] = \"}\"\n",
    "    swap[\"<\"] = \">\"\n",
    "    \n",
    "    buffer = []\n",
    "    for char in arr:\n",
    "        if char in [\"(\", \"[\", \"{\", \"<\"]:\n",
    "            buffer.append(char)\n",
    "        else:\n",
    "            temp = buffer.pop()\n",
    "            if swap[temp] == char:\n",
    "                continue\n",
    "            else:\n",
    "                #print(\"expected\", swap[temp], \"Got\", char)\n",
    "                return char\n",
    "            \n",
    "    return \"\"      \n",
    "\n",
    "errors = []\n",
    "points = {}\n",
    "points[\")\"] = 3\n",
    "points[\"]\"] = 57\n",
    "points[\"}\"] = 1197\n",
    "points[\">\"] = 25137\n",
    "\n",
    "for value in data:\n",
    "    temp = syntaxChecker(value)\n",
    "    if not temp in \"\":\n",
    "        errors.append(temp)\n",
    "\n",
    "#print(errors)\n",
    "\n",
    "total = 0\n",
    "for value in errors:\n",
    "    total += points[value]\n",
    "    \n",
    "print(\"Total syntax error score:\", total)"
   ]
  },
  {
   "cell_type": "markdown",
   "metadata": {},
   "source": [
    "###### Part 2"
   ]
  },
  {
   "cell_type": "code",
   "execution_count": 20,
   "metadata": {},
   "outputs": [
    {
     "name": "stdout",
     "output_type": "stream",
     "text": [
      "Middle syntax error score: 3241238967\n"
     ]
    }
   ],
   "source": [
    "def braceCloser(arr, add):\n",
    "    swap = {}\n",
    "    swap[\"(\"] = \")\"\n",
    "    swap[\"[\"] = \"]\"\n",
    "    swap[\"{\"] = \"}\"\n",
    "    swap[\"<\"] = \">\"\n",
    "    \n",
    "    buffer = []\n",
    "    add = []\n",
    "    for char in arr:\n",
    "        if char in [\"(\", \"[\", \"{\", \"<\"]:\n",
    "            buffer.append(char)\n",
    "        elif len(buffer) > 0:\n",
    "            temp = buffer.pop()\n",
    "            if swap[temp] == char:\n",
    "                continue\n",
    "            else:\n",
    "                buffer.append(temp)\n",
    "    \n",
    "    for char in reversed(buffer):\n",
    "        add.append(swap[char])  \n",
    "        \n",
    "    return add \n",
    "\n",
    "def braceScore(arr):\n",
    "    points = {}\n",
    "    points[\")\"] = 1\n",
    "    points[\"]\"] = 2\n",
    "    points[\"}\"] = 3\n",
    "    points[\">\"] = 4\n",
    "    \n",
    "    total = 0\n",
    "    for char in arr:\n",
    "        total *= 5\n",
    "        total += points[char]\n",
    "    \n",
    "    return total\n",
    "\n",
    "cleanData = []\n",
    "for value in data:\n",
    "    temp = syntaxChecker(value)\n",
    "    if temp in \"\":\n",
    "        cleanData.append(value)\n",
    "\n",
    "score = []\n",
    "for value in cleanData:\n",
    "    score.append(braceScore(braceCloser(value, [])))\n",
    "    \n",
    "score.sort()\n",
    "print(\"Middle syntax error score:\", score[len(score)//2])"
   ]
  },
  {
   "cell_type": "markdown",
   "metadata": {},
   "source": [
    "# Day 11\n",
    "###### Part 1\n",
    "<https://adventofcode.com/2021/day/11>"
   ]
  },
  {
   "cell_type": "code",
   "execution_count": 21,
   "metadata": {
    "scrolled": true
   },
   "outputs": [
    {
     "name": "stdout",
     "output_type": "stream",
     "text": [
      "Data Loaded Successfully\n",
      "Total flashes 1785\n"
     ]
    }
   ],
   "source": [
    "day11data  = open(\"Data/day11.txt\", \"r\") \n",
    "data = day11data.read().split()\n",
    "\n",
    "for i, value in enumerate(data):\n",
    "    data[i]= []\n",
    "    for val in value:\n",
    "        data[i].append(int(val))\n",
    "print(\"Data Loaded Successfully\")\n",
    "\n",
    "total = 0\n",
    "\n",
    "def squidStep(arr):\n",
    "    for y, value in enumerate(arr):\n",
    "        for x, val in enumerate(value):\n",
    "            arr[y][x] += 1\n",
    "\n",
    "    for y, value in enumerate(arr):\n",
    "        for x, val in enumerate(value):\n",
    "            arr = squidFlash(arr, x, y)\n",
    "\n",
    "    return arr\n",
    "\n",
    "def squidFlash(arr, x, y):\n",
    "    if arr[y][x] > 9:\n",
    "        global total \n",
    "        total += 1\n",
    "        arr[y][x] = 0\n",
    "        \n",
    "        for y1 in range(3):\n",
    "            starty = y + y1 -1\n",
    "            if len(arr) - 1 < starty or starty < 0:\n",
    "                continue\n",
    "            for x1 in range(3):\n",
    "                startx = x + x1 - 1\n",
    "                if len(arr[0]) - 1 < startx or startx < 0:\n",
    "                    continue \n",
    "                else:\n",
    "                    if arr[starty][startx] > 0:\n",
    "                        arr[starty][startx] += 1\n",
    "                    \n",
    "                    if arr[starty][startx] >= 10:\n",
    "                        arr = squidFlash(arr, startx, starty)\n",
    "    return arr\n",
    "      \n",
    "for value in range(100):\n",
    "    data = squidStep(data)\n",
    "\n",
    "print(\"Total flashes\", total)"
   ]
  },
  {
   "cell_type": "markdown",
   "metadata": {},
   "source": [
    "###### Part 2"
   ]
  },
  {
   "cell_type": "code",
   "execution_count": 22,
   "metadata": {},
   "outputs": [
    {
     "name": "stdout",
     "output_type": "stream",
     "text": [
      "Data Loaded Successfully\n",
      "Step where all squids are zero: 354\n",
      "[0, 0, 0, 0, 0, 0, 0, 0, 0, 0]\n",
      "[0, 0, 0, 0, 0, 0, 0, 0, 0, 0]\n",
      "[0, 0, 0, 0, 0, 0, 0, 0, 0, 0]\n",
      "[0, 0, 0, 0, 0, 0, 0, 0, 0, 0]\n",
      "[0, 0, 0, 0, 0, 0, 0, 0, 0, 0]\n",
      "[0, 0, 0, 0, 0, 0, 0, 0, 0, 0]\n",
      "[0, 0, 0, 0, 0, 0, 0, 0, 0, 0]\n",
      "[0, 0, 0, 0, 0, 0, 0, 0, 0, 0]\n",
      "[0, 0, 0, 0, 0, 0, 0, 0, 0, 0]\n",
      "[0, 0, 0, 0, 0, 0, 0, 0, 0, 0]\n"
     ]
    }
   ],
   "source": [
    "import numpy as np\n",
    "\n",
    "day11data  = open(\"Data/day11.txt\", \"r\") \n",
    "data = day11data.read().split()\n",
    "\n",
    "for i, value in enumerate(data):\n",
    "    data[i]= []\n",
    "    for val in value:\n",
    "        data[i].append(int(val))\n",
    "print(\"Data Loaded Successfully\")\n",
    "\n",
    "def isMaxFlash(arr):\n",
    "    length = len(arr) * len(arr[0])\n",
    "    \n",
    "    arr2 = np.array(arr)\n",
    "    arr2 = np.argwhere(arr2 == 0)\n",
    "    \n",
    "    al = len(arr2)\n",
    "    \n",
    "    if al == length:\n",
    "        return True\n",
    "    else:\n",
    "        return False\n",
    "    \n",
    "step = 0\n",
    "while not isMaxFlash(data):\n",
    "    data = squidStep(data)\n",
    "    step += 1\n",
    "\n",
    "print(\"Step where all squids are zero:\", step)\n",
    "printMap(data)"
   ]
  },
  {
   "cell_type": "markdown",
   "metadata": {},
   "source": [
    "# Day 12\n",
    "###### Part 1\n",
    "<https://adventofcode.com/2021/day/12>"
   ]
  },
  {
   "cell_type": "code",
   "execution_count": 23,
   "metadata": {
    "scrolled": true
   },
   "outputs": [
    {
     "name": "stdout",
     "output_type": "stream",
     "text": [
      "Data Loaded Successfully\n",
      "Unique traversals that cross lowercase nodes only once: 5333\n"
     ]
    }
   ],
   "source": [
    "def isalllower(arr):\n",
    "    valid = True\n",
    "    for value in arr:\n",
    "        if value.isupper() or \"end\" in value or \"start\" in value:\n",
    "            valid = False\n",
    "    return valid\n",
    "\n",
    "\n",
    "day12data  = open(\"Data/day12.txt\", \"r\") \n",
    "\n",
    "data = day12data.read().split()\n",
    "\n",
    "dataMap = {}\n",
    "for value in data:\n",
    "    temp = value.split(\"-\")\n",
    "    if not temp[0] in dataMap.keys():\n",
    "        dataMap[temp[0]] = []\n",
    "    if not temp[1] in dataMap.keys():\n",
    "        dataMap[temp[1]] = []\n",
    "        \n",
    "    dataMap[temp[0]].append(temp[1])\n",
    "    dataMap[temp[1]].append(temp[0])\n",
    "\n",
    "#Trim unreachable caves\n",
    "toDel = []\n",
    "for value in dataMap:\n",
    "    if value.islower() and isalllower(dataMap[value]) and not \"end\" in value:\n",
    "        toDel.append(value)\n",
    "for value in toDel:\n",
    "    del dataMap[value]\n",
    "\n",
    "for value in dataMap:\n",
    "    for val in dataMap[value]:\n",
    "        if val in toDel:\n",
    "            dataMap[value].remove(val)\n",
    "\n",
    "print(\"Data Loaded Successfully\")\n",
    "\n",
    "def traverse(dataMap, curr, traveled):\n",
    "    total = 0\n",
    "    if curr.islower():\n",
    "        traveled.append(curr)\n",
    "    \n",
    "    for value in dataMap[curr]:\n",
    "        if value in traveled:\n",
    "            continue\n",
    "        else:\n",
    "            if \"end\" in dataMap[value]:\n",
    "                total += 1\n",
    "            total += traverse(dataMap, value, list(traveled))\n",
    "    return total\n",
    "            \n",
    "print(\"Unique traversals that cross lowercase nodes only once:\",traverse(dataMap, \"start\", [\"end\", \"start\"]))"
   ]
  },
  {
   "cell_type": "markdown",
   "metadata": {},
   "source": [
    "###### Part 2"
   ]
  },
  {
   "cell_type": "code",
   "execution_count": 24,
   "metadata": {
    "scrolled": true
   },
   "outputs": [
    {
     "name": "stdout",
     "output_type": "stream",
     "text": [
      "Data Loaded Successfully\n",
      "Unique traversals that cross 1 lowercase node twice and the rest only once: 146553\n"
     ]
    }
   ],
   "source": [
    "def isalllower(arr):\n",
    "    valid = True\n",
    "    for value in arr:\n",
    "        if value.isupper() or \"end\" in value or \"start\" in value:\n",
    "            valid = False\n",
    "    return valid\n",
    "\n",
    "\n",
    "day12data  = open(\"Data/day12.txt\", \"r\") \n",
    "\n",
    "data = day12data.read().split()\n",
    "\n",
    "dataMap = {}\n",
    "for value in data:\n",
    "    temp = value.split(\"-\")\n",
    "    if not temp[0] in dataMap.keys():\n",
    "        dataMap[temp[0]] = []\n",
    "    if not temp[1] in dataMap.keys():\n",
    "        dataMap[temp[1]] = []\n",
    "        \n",
    "    dataMap[temp[0]].append(temp[1])\n",
    "    dataMap[temp[1]].append(temp[0])\n",
    "    \n",
    "del dataMap[\"end\"]\n",
    "\n",
    "for value in dataMap:\n",
    "    if \"start\" in dataMap[value]:\n",
    "        dataMap[value].remove(\"start\")\n",
    "\n",
    "print(\"Data Loaded Successfully\")\n",
    "\n",
    "def count2(arr):\n",
    "    total = 0\n",
    "    for val in arr:\n",
    "        if arr[val] >= 2:\n",
    "            total += 1\n",
    "    return total\n",
    "\n",
    "def traverse(dataMap, curr, traveled, string):\n",
    "    total = 0\n",
    "    string.append(curr)\n",
    "    if curr.islower():\n",
    "        if not curr in traveled.keys():\n",
    "            traveled[curr] = 1\n",
    "        else:\n",
    "            traveled[curr] += 1\n",
    "    \n",
    "    if \"end\" in dataMap[curr]:\n",
    "            total += 1\n",
    "    \n",
    "    for value in dataMap[curr]:\n",
    "        if value in traveled.keys():\n",
    "            if count2(traveled) >= 3:\n",
    "                if traveled[value] >= 1: \n",
    "                    continue\n",
    "            else:\n",
    "                if traveled[value] >= 2: \n",
    "                    continue\n",
    "        total += traverse(dataMap, value, dict(traveled), list(string))\n",
    "    return total\n",
    "\n",
    "traveled = {}\n",
    "traveled[\"end\"] = 2\n",
    "traveled[\"start\"] = 1\n",
    "\n",
    "print(\"Unique traversals that cross 1 lowercase node twice and the rest only once:\",traverse(dataMap, \"start\", traveled, []))"
   ]
  },
  {
   "cell_type": "markdown",
   "metadata": {},
   "source": [
    "# Day 13\n",
    "###### Part 1\n",
    "<https://adventofcode.com/2021/day/13>"
   ]
  },
  {
   "cell_type": "code",
   "execution_count": 25,
   "metadata": {
    "scrolled": true
   },
   "outputs": [
    {
     "name": "stdout",
     "output_type": "stream",
     "text": [
      "Data Loaded Successfully\n",
      "Marks after the first cut: 743\n"
     ]
    }
   ],
   "source": [
    "import numpy as np\n",
    "\n",
    "day13data  = open(\"Data/day13.txt\", \"r\") \n",
    "\n",
    "data = day13data.read().split(\"\\n\")\n",
    "\n",
    "folds = []\n",
    "points = []\n",
    "for i, value in enumerate(data):\n",
    "    if \",\" in value:\n",
    "        temp = value.split(\",\")\n",
    "        points.append([int(temp[0]), int(temp[1])])\n",
    "                      \n",
    "    elif \"x\" in value:\n",
    "        folds.append([\"x\", int(value.split(\"=\")[1])])\n",
    "    \n",
    "    elif \"y\" in value:\n",
    "        folds.append([\"y\", int(value.split(\"=\")[1])])\n",
    "\n",
    "#FindMax from day 5\n",
    "boardSize = findMax(points)\n",
    "boardSize[0] += 1\n",
    "boardSize[1] += 1\n",
    "board = np.zeros([boardSize[1], boardSize[0]])\n",
    "\n",
    "for value in points:\n",
    "    board[value[1]][value[0]] = 1\n",
    "    \n",
    "print(\"Data Loaded Successfully\")\n",
    "\n",
    "def yfold(arr, y):\n",
    "    arr2 = arr[:y]\n",
    "    for j, value in enumerate(arr[y:]):\n",
    "        for i, val in enumerate(value):\n",
    "            if val > 0:\n",
    "                arr2[y-j][i] += 1\n",
    "    return arr2\n",
    "\n",
    "def xfold(arr, x):\n",
    "    arr2 = arr[:,:x]\n",
    "    for j, value in enumerate(arr):\n",
    "        for i, val in enumerate(value[x:]):\n",
    "            if val > 0:\n",
    "                arr2[j][x - i] += 1\n",
    "    return arr2\n",
    "\n",
    "for value in folds:\n",
    "    if \"x\" in value[0]:\n",
    "        board = xfold(board, value[1])\n",
    "    elif \"y\" in value[0]:\n",
    "        board = yfold(board, value[1])\n",
    "    break\n",
    "    \n",
    "total = 0\n",
    "\n",
    "temp = []\n",
    "for j, value in enumerate(board):\n",
    "    temp.append([])\n",
    "    for i, val in enumerate(value):\n",
    "        if val > 0:\n",
    "            total += 1\n",
    "            \n",
    "print(\"Marks after the first cut:\", total)"
   ]
  },
  {
   "cell_type": "markdown",
   "metadata": {},
   "source": [
    "###### Part 2"
   ]
  },
  {
   "cell_type": "code",
   "execution_count": 26,
   "metadata": {},
   "outputs": [
    {
     "name": "stdout",
     "output_type": "stream",
     "text": [
      "Data Loaded Successfully\n",
      "###   ##  ###  #     ##  #  # #  # #    \n",
      "#  # #  # #  # #    #  # # #  #  # #    \n",
      "#  # #    #  # #    #  # ##   #### #    \n",
      "###  #    ###  #    #### # #  #  # #    \n",
      "# #  #  # #    #    #  # # #  #  # #    \n",
      "#  #  ##  #    #### #  # #  # #  # #### \n"
     ]
    }
   ],
   "source": [
    "import numpy as np\n",
    "\n",
    "day13data  = open(\"Data/day13.txt\", \"r\") \n",
    "\n",
    "data = day13data.read().split(\"\\n\")\n",
    "\n",
    "folds = []\n",
    "points = []\n",
    "for i, value in enumerate(data):\n",
    "    if \",\" in value:\n",
    "        temp = value.split(\",\")\n",
    "        points.append([int(temp[0]), int(temp[1])])\n",
    "                      \n",
    "    elif \"x\" in value:\n",
    "        folds.append([\"x\", int(value.split(\"=\")[1])])\n",
    "    \n",
    "    elif \"y\" in value:\n",
    "        folds.append([\"y\", int(value.split(\"=\")[1])])\n",
    "\n",
    "\n",
    "boardSize = findMax(points)\n",
    "boardSize[0] += 1\n",
    "boardSize[1] += 1\n",
    "board = np.zeros([boardSize[1], boardSize[0]])\n",
    "\n",
    "for value in points:\n",
    "    board[value[1]][value[0]] = 1\n",
    "    \n",
    "print(\"Data Loaded Successfully\")\n",
    "\n",
    "def yfold(arr, y):\n",
    "    arr2 = arr[:y]\n",
    "    for j, value in enumerate(arr[y:]):\n",
    "        for i, val in enumerate(value):\n",
    "            if val > 0:\n",
    "                arr2[y-j][i] += 1\n",
    "    return arr2\n",
    "\n",
    "def xfold(arr, x):\n",
    "    arr2 = arr[:,:x]\n",
    "\n",
    "    for j, value in enumerate(arr):\n",
    "        for i, val in enumerate(value[x:]):\n",
    "            if val > 0:\n",
    "                arr2[j][x - i] += 1\n",
    "    return arr2\n",
    "\n",
    "for value in folds:\n",
    "    if \"x\" in value[0]:\n",
    "        board = xfold(board, value[1])\n",
    "    elif \"y\" in value[0]:\n",
    "        board = yfold(board, value[1])\n",
    "    \n",
    "total = 0\n",
    "\n",
    "for j, value in enumerate(board):\n",
    "    temp = \"\"\n",
    "    for i, val in enumerate(value):\n",
    "        if val > 0:\n",
    "            temp +=\"#\"\n",
    "            total += 1\n",
    "        else:\n",
    "            temp+=\" \"\n",
    "    print(temp)"
   ]
  },
  {
   "cell_type": "code",
   "execution_count": null,
   "metadata": {},
   "outputs": [],
   "source": []
  }
 ],
 "metadata": {
  "kernelspec": {
   "display_name": "Python 3",
   "language": "python",
   "name": "python3"
  },
  "language_info": {
   "codemirror_mode": {
    "name": "ipython",
    "version": 3
   },
   "file_extension": ".py",
   "mimetype": "text/x-python",
   "name": "python",
   "nbconvert_exporter": "python",
   "pygments_lexer": "ipython3",
   "version": "3.7.7"
  }
 },
 "nbformat": 4,
 "nbformat_minor": 4
}
